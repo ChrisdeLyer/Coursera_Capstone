{
 "cells": [
  {
   "cell_type": "markdown",
   "metadata": {
    "collapsed": true
   },
   "source": [
    "# Business problem "
   ]
  },
  {
   "cell_type": "markdown",
   "metadata": {},
   "source": [
    "#### A Southern-Franced based coffee shop chain (named 'allo Café) reached out to get advice on how to place their planned coffee shops in Paris. \n",
    "They do not have any shop in Paris or near the capital area yet. \n",
    "\n",
    "Main goal: to identify the two best areas that would fit 'allo Café's criteria and where the chain should open their first two shops in Paris. \n",
    "\n",
    "Criteria and aspects learnt upon the first consultation: \n",
    "\n",
    "- 'allo café wants to open two shops but in two distinct districts \n",
    "- Based on their experience, they gen achieve higher returns at locations where people like traditional French cuisine and bakery \n",
    "- They do not want to be surrounded by many competing stores from the exact same category, but some 'café culture' is necessary \n",
    "- Eventually they want to open at least three shops in one of the identified areas, so there needs to be enough room for it \n",
    "- For the second store, they seek to 'try out something new', and would prefer to put the shop in the vicinity of parks/outdoor activities (they do not want to expand more in this area) \n",
    "- Price is an important consideration. They are willing to pay more for a better area, but will minimise the price within the area if a given district within the area offers lower rental prices \n",
    "\n"
   ]
  },
  {
   "cell_type": "markdown",
   "metadata": {},
   "source": [
    "# Data Sources"
   ]
  },
  {
   "cell_type": "markdown",
   "metadata": {},
   "source": [
    "The above task will be executed by using location data and analysising the composition of different districts based on already existing venues. \n",
    "\n",
    "To obtain information on nearby venues, Foursquare API will be leveraged. \n",
    "- Based on location data, top 5 venues such restaurants, hotels, parks etc. will be identified for every district. \n",
    "\n",
    "To obtain information on the districts, their names, population etc. the following wikipedia page will be used: https://en.wikipedia.org/wiki/Arrondissements_of_Paris\n",
    "- In terms of the location data, certain district names such as Panthéon might be 'confusing'. As these names might be in fact used for other locations as well, adjustments will need to be made and coordinates double-checked. \n",
    "\n",
    "Latitude and longitude data will be gained through GeoPy. As mentioned before, if needed, it will be double-checked and complimented with direct Google searches. \n",
    "\n",
    "To obtain average rental prices for the different districts, the following page will be used:\n",
    "https://www.lci.fr/immobilier/video-immobilier-louer-a-paris-coute-de-plus-en-plus-cher-voici-les-prix-dans-chaque-arrondissement-etude-locservice-fr-2116595.html\n"
   ]
  },
  {
   "cell_type": "code",
   "execution_count": null,
   "metadata": {},
   "outputs": [],
   "source": []
  }
 ],
 "metadata": {
  "kernelspec": {
   "display_name": "Python 3.6",
   "language": "python",
   "name": "python3"
  },
  "language_info": {
   "codemirror_mode": {
    "name": "ipython",
    "version": 3
   },
   "file_extension": ".py",
   "mimetype": "text/x-python",
   "name": "python",
   "nbconvert_exporter": "python",
   "pygments_lexer": "ipython3",
   "version": "3.6.9"
  }
 },
 "nbformat": 4,
 "nbformat_minor": 1
}
